{
 "cells": [
  {
   "cell_type": "code",
   "execution_count": null,
   "metadata": {},
   "outputs": [],
   "source": [
    "import sys\n",
    "import numpy as np\n",
    "import torchvision\n",
    "import torchvision.transforms as transforms\n",
    "import matplotlib.pyplot as plt\n",
    "import seaborn as sns\n",
    "from sklearn import datasets\n",
    "import torch\n",
    "torch.set_default_tensor_type(torch.DoubleTensor)"
   ]
  },
  {
   "cell_type": "code",
   "execution_count": null,
   "metadata": {},
   "outputs": [],
   "source": [
    "details = '5_runs_GD_visc_1_CIFAR10_step_0.5_ODE_RK2_withstep_0.5_nit_100_reg_0.00085'\n",
    "\n",
    "loss = load('results/loss'+)\n"
   ]
  },
  {
   "cell_type": "code",
   "execution_count": null,
   "metadata": {},
   "outputs": [],
   "source": [
    "fig0=plt.figure()\n",
    "#plt.plot(loss_hist_algo_all)\n",
    "plt.plot(loss)\n",
    "plt.xlabel('$k$',fontsize=10)\n",
    "plt.ylabel('sigmoid loss',fontsize=10)\n",
    "fig0.savefig('loss.eps', format='eps', dpi=1000)\n",
    "plt.show()\n",
    "\n",
    "fig1=plt.figure()\n",
    "plt.plot(perc)\n",
    "plt.xlabel('$k$',fontsize=10)\n",
    "plt.ylabel('$||x_k-y_k||$',fontsize=10)\n",
    "plt.ylim(0,1.05*np.max(perc_res_all))\n",
    "plt.gca().set_yticklabels(['{:.3f}%'.format(x) for x in plt.gca().get_yticks()]) \n",
    "fig1.savefig('shad.eps', format='eps', dpi=1000)\n",
    "plt.show()"
   ]
  }
 ],
 "metadata": {
  "kernelspec": {
   "display_name": "Python 3",
   "language": "python",
   "name": "python3"
  },
  "language_info": {
   "codemirror_mode": {
    "name": "ipython",
    "version": 3
   },
   "file_extension": ".py",
   "mimetype": "text/x-python",
   "name": "python",
   "nbconvert_exporter": "python",
   "pygments_lexer": "ipython3",
   "version": "3.7.1"
  }
 },
 "nbformat": 4,
 "nbformat_minor": 2
}
